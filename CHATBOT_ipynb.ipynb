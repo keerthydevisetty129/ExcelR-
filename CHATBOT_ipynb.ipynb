{
  "nbformat": 4,
  "nbformat_minor": 0,
  "metadata": {
    "colab": {
      "provenance": [],
      "authorship_tag": "ABX9TyPUQPvOItlg/ju1cAYWqoV+",
      "include_colab_link": true
    },
    "kernelspec": {
      "name": "python3",
      "display_name": "Python 3"
    },
    "language_info": {
      "name": "python"
    }
  },
  "cells": [
    {
      "cell_type": "markdown",
      "metadata": {
        "id": "view-in-github",
        "colab_type": "text"
      },
      "source": [
        "<a href=\"https://colab.research.google.com/github/keerthydevisetty129/ExcelR-/blob/main/CHATBOT_ipynb.ipynb\" target=\"_parent\"><img src=\"https://colab.research.google.com/assets/colab-badge.svg\" alt=\"Open In Colab\"/></a>"
      ]
    },
    {
      "cell_type": "code",
      "execution_count": 5,
      "metadata": {
        "colab": {
          "base_uri": "https://localhost:8080/"
        },
        "id": "88nuM2QfWgU2",
        "outputId": "4ff5f836-3cf4-4eec-c070-d22e8b445293"
      },
      "outputs": [
        {
          "output_type": "stream",
          "name": "stderr",
          "text": [
            "/usr/local/lib/python3.11/dist-packages/huggingface_hub/utils/_auth.py:94: UserWarning: \n",
            "The secret `HF_TOKEN` does not exist in your Colab secrets.\n",
            "To authenticate with the Hugging Face Hub, create a token in your settings tab (https://huggingface.co/settings/tokens), set it as secret in your Google Colab and restart your session.\n",
            "You will be able to reuse this secret in all of your notebooks.\n",
            "Please note that authentication is recommended but still optional to access public models or datasets.\n",
            "  warnings.warn(\n"
          ]
        }
      ],
      "source": [
        "import os\n",
        "import atexit\n",
        "import shutil\n",
        "from transformers import BlenderbotTokenizer, BlenderbotForConditionalGeneration\n",
        "model_name = \"facebook/blenderbot-1B-distill\"\n",
        "tokenizer = BlenderbotTokenizer.from_pretrained(model_name)\n",
        "model = BlenderbotForConditionalGeneration.from_pretrained(model_name)"
      ]
    },
    {
      "cell_type": "code",
      "source": [],
      "metadata": {
        "id": "gbNnUjqXAVXI"
      },
      "execution_count": null,
      "outputs": []
    },
    {
      "cell_type": "code",
      "source": [
        "def interact_with_chatbot(user_input,conversation_history):\n",
        "  conversation_history.append(f\"User:{user_input}\")\n",
        "  conversation_text=\" \".join(conversation_history[-5:])\n",
        "  inputs = tokenizer(conversation_history, return_tensors=\"pt\")\n",
        "  response_ids=model.generate(**inputs,max_length=1000,pad_token_id=tokenizer.eos_token_id)\n",
        "  response_text=tokenizer.decode(response_ids[0],skip_special_tokens=True)\n",
        "  conversation_history.append(f\"Chatbot:{response_text}\")\n",
        "  return response_text"
      ],
      "metadata": {
        "id": "faRLSm7z3SkO"
      },
      "execution_count": 7,
      "outputs": []
    },
    {
      "cell_type": "code",
      "source": [
        "def delete_model_files():\n",
        "  cache_dir=os.path.expanduser(\"~/.cache/huggingface/hub/models--facebook--blenderbot-1B-distill\")\n",
        "  if os.path.exists(cache_dir):\n",
        "    user_input=input(f\"Do you want to delete the model files from the cache directory? (yes/no):\")\n",
        "    if user_input.lower()==\"yes\":\n",
        "      shutil.rmtree(cache_dir)\n",
        "      print(f\"Deleted model files from cache d9irectory:{cache_dir}\")\n",
        "    else:\n",
        "      print(\"Model files will not be deleted.\")\n",
        "  else:\n",
        "    print(f\"Model files not found in the cache directory:{cache_dir}\")\n",
        "atexit.register(delete_model_files)"
      ],
      "metadata": {
        "colab": {
          "base_uri": "https://localhost:8080/",
          "height": 104
        },
        "id": "98XNyGZ_3wWy",
        "outputId": "a7f646d2-57cb-45d5-cddd-2aea5fee913d"
      },
      "execution_count": 8,
      "outputs": [
        {
          "output_type": "execute_result",
          "data": {
            "text/plain": [
              "<function __main__.delete_model_files()>"
            ],
            "text/html": [
              "<div style=\"max-width:800px; border: 1px solid var(--colab-border-color);\"><style>\n",
              "      pre.function-repr-contents {\n",
              "        overflow-x: auto;\n",
              "        padding: 8px 12px;\n",
              "        max-height: 500px;\n",
              "      }\n",
              "\n",
              "      pre.function-repr-contents.function-repr-contents-collapsed {\n",
              "        cursor: pointer;\n",
              "        max-height: 100px;\n",
              "      }\n",
              "    </style>\n",
              "    <pre style=\"white-space: initial; background:\n",
              "         var(--colab-secondary-surface-color); padding: 8px 12px;\n",
              "         border-bottom: 1px solid var(--colab-border-color);\"><b>delete_model_files</b><br/>def delete_model_files()</pre><pre class=\"function-repr-contents function-repr-contents-collapsed\" style=\"\"><a class=\"filepath\" style=\"display:none\" href=\"#\">/content/&lt;ipython-input-8-19fcbd34b727&gt;</a>&lt;no docstring&gt;</pre></div>"
            ]
          },
          "metadata": {},
          "execution_count": 8
        }
      ]
    },
    {
      "cell_type": "code",
      "source": [
        "print(\"Welcome to the Indian Toursim Chatbot!\")\n",
        "print(\"Type 'quit' to end the conversation.\\n\")\n",
        "conversation_history=[]\n",
        "while True:\n",
        "  user_input=input(\"User:\")\n",
        "  if user_input.lower()==\"quit\":\n",
        "    print(\"Thank you for using the Indian Tourism chatbot.Goodbye!\")\n",
        "    break\n",
        "  response=interact_with_chatbot(user_input,conversation_history)\n",
        "  print(f\"Chatbot:{response}\")"
      ],
      "metadata": {
        "colab": {
          "base_uri": "https://localhost:8080/"
        },
        "id": "X85Q0YDb7-0t",
        "outputId": "7fa21f66-8582-42ab-e8f5-2e225da61a6b"
      },
      "execution_count": null,
      "outputs": [
        {
          "output_type": "stream",
          "name": "stdout",
          "text": [
            "Welcome to the Indian Toursim Chatbot!\n",
            "Type 'quit' to end the conversation.\n",
            "\n",
            "User:hi\n",
            "Chatbot: Hello, how are you? I just got home from work, I work at a restaurant.\n"
          ]
        }
      ]
    },
    {
      "cell_type": "code",
      "source": [],
      "metadata": {
        "id": "9wHJ9i52_J0a"
      },
      "execution_count": null,
      "outputs": []
    }
  ]
}