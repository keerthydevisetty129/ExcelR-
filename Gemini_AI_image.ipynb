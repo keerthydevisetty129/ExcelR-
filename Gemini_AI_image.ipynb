{
  "nbformat": 4,
  "nbformat_minor": 0,
  "metadata": {
    "colab": {
      "provenance": [],
      "authorship_tag": "ABX9TyNyMg4YMyRE0PM7bubDYFUx",
      "include_colab_link": true
    },
    "kernelspec": {
      "name": "python3",
      "display_name": "Python 3"
    },
    "language_info": {
      "name": "python"
    }
  },
  "cells": [
    {
      "cell_type": "markdown",
      "metadata": {
        "id": "view-in-github",
        "colab_type": "text"
      },
      "source": [
        "<a href=\"https://colab.research.google.com/github/keerthydevisetty129/ExcelR-/blob/main/Gemini_AI_image.ipynb\" target=\"_parent\"><img src=\"https://colab.research.google.com/assets/colab-badge.svg\" alt=\"Open In Colab\"/></a>"
      ]
    },
    {
      "cell_type": "code",
      "execution_count": 1,
      "metadata": {
        "id": "MUmuLcJ596zH"
      },
      "outputs": [],
      "source": [
        "from google.colab import userdata\n",
        "import google.generativeai as genai\n",
        "\n",
        "GOOGLE_API_KEY = userdata.get('GOOGLE_API_KEY')\n",
        "genai.configure(api_key=GOOGLE_API_KEY)"
      ]
    },
    {
      "cell_type": "code",
      "source": [
        "import pathlib\n",
        "import textwrap\n",
        "from IPython.display import display, Markdown\n",
        "def to_markdown(text):\n",
        "    text = text.replace('*',' *')\n",
        "    return Markdown(textwrap.indent(text, '> ',predicate=lambda _: True))"
      ],
      "metadata": {
        "id": "4Jqj4TG8-Imk"
      },
      "execution_count": 2,
      "outputs": []
    },
    {
      "cell_type": "code",
      "source": [
        "import PIL.Image\n",
        "img=PIL.Image.open('/content/Image 1.jpg')\n",
        "img\n",
        "model=genai.GenerativeModel('gemini-1.5-flash')\n",
        "response=model.generate_content([\"Write a short,engaging blog post based on this picture.\\nIt should include a description of the meal in the photo and talk about my journey meal prepping.\", img],\n",
        "stream=True)\n",
        "response.resolve()"
      ],
      "metadata": {
        "id": "eed6_jCM_Ah1"
      },
      "execution_count": 4,
      "outputs": []
    },
    {
      "cell_type": "code",
      "source": [
        "to_markdown(response.text)"
      ],
      "metadata": {
        "colab": {
          "base_uri": "https://localhost:8080/",
          "height": 478
        },
        "id": "0gjaKC3-B0TE",
        "outputId": "5741558b-cb6f-4148-dc8b-2794aa9c3bd6"
      },
      "execution_count": 5,
      "outputs": [
        {
          "output_type": "execute_result",
          "data": {
            "text/plain": [
              "<IPython.core.display.Markdown object>"
            ],
            "text/markdown": "> ## My Meal Prep Journey: From Chaos to Colorful Containers!\n> \n> Let's be honest, weekday dinners used to be a whirlwind of takeout menus and last-minute grocery store dashes.  Then I discovered the magic of meal prepping, and my life (and waistline) have never been the same!\n> \n> This photo shows the fruits (or should I say,  *veggies *?) of my labor.  Two perfectly portioned containers brimming with deliciousness!  Each one is a balanced masterpiece of fluffy white rice, tender teriyaki chicken, vibrant orange and red bell peppers, and a healthy dose of broccoli.  It's a quick, satisfying, and visually appealing meal that takes all the guesswork out of dinner time.\n> \n> \n> My meal prep journey started with a little trepidation. I imagined hours spent chopping, cooking, and cleaning. But the reality has been far more rewarding.  It’s become a relaxing Sunday ritual, a time for me to plan my meals and unwind creatively in the kitchen.  The payoff? Stress-free weeknights, healthier eating habits, and a fridge that looks like a vibrant rainbow of deliciousness (instead of the usual leftovers graveyard).\n> \n> The key for me was finding simple recipes I actually enjoy.  This teriyaki chicken and veggies is a personal favorite, but I’m constantly experimenting with new flavors and ingredients to keep things interesting.  The sense of accomplishment is incredible!\n> \n> \n> So, if you’re thinking about starting your own meal prep adventure, I highly encourage you to take the plunge! It’s a worthwhile investment in your time and well-being.  Start small, choose a few simple recipes you love, and get ready to experience the freedom of delicious, healthy meals, week after week!\n"
          },
          "metadata": {},
          "execution_count": 5
        }
      ]
    },
    {
      "cell_type": "code",
      "source": [
        "response = model.generate_content([\"Generate an accurate caption for this image.\",img])\n",
        "print(response.text)"
      ],
      "metadata": {
        "colab": {
          "base_uri": "https://localhost:8080/",
          "height": 348
        },
        "id": "TBvlzM3HCoWn",
        "outputId": "6c171422-1997-42e5-a31f-0df66c963620"
      },
      "execution_count": 6,
      "outputs": [
        {
          "output_type": "stream",
          "name": "stdout",
          "text": [
            "Here's a caption for the image:\n",
            "\n",
            "**Option 1 (Simple):**\n",
            "\n",
            "> Healthy and delicious meal prep!  Chicken and broccoli with rice.\n",
            "\n",
            "**Option 2 (More descriptive):**\n",
            "\n",
            "> Two containers of tasty and nutritious meal prep.  Each serving includes chicken stir-fry with broccoli, carrots, and fluffy white rice. Perfect for lunch or dinner!\n",
            "\n",
            "**Option 3 (Engaging):**\n",
            "\n",
            "> Conquer your week with these easy-to-grab, healthy meals!  Chicken and veggie stir-fry over rice - meal prep goals achieved.  What's your favorite healthy lunch?\n",
            "\n",
            "\n",
            "Choose the option that best suits your needs and intended audience.\n",
            "\n"
          ]
        }
      ]
    },
    {
      "cell_type": "code",
      "source": [
        "from PIL import Image\n",
        "image_path = \"/content/girl.jpg\"\n",
        "image = Image.open(image_path)\n",
        "response = model.generate_content([\"Describe this image in detail.\", image])\n",
        "print(response.text)"
      ],
      "metadata": {
        "colab": {
          "base_uri": "https://localhost:8080/",
          "height": 274
        },
        "id": "UtpH0eQQC8Zg",
        "outputId": "d0c6dfe8-2080-45f9-a61b-34c21f7ce624"
      },
      "execution_count": 16,
      "outputs": [
        {
          "output_type": "stream",
          "name": "stdout",
          "text": [
            "Here's a description of the image:\n",
            "\n",
            "Close-up view of a woman with shoulder-length, curly brown hair. \n",
            "\n",
            "\n",
            "She is light-skinned and appears to be of South Asian descent. She's wearing a teal, three-quarter sleeve top with a subtle gold print or pattern. The top has a simple, buttoned neckline. \n",
            "\n",
            "\n",
            "Her expression is friendly and engaging; she's smiling and pointing with her index finger to her left, as if indicating something off-camera. Her arms are folded across her chest, with one hand pointing and the other resting on her forearm. \n",
            "\n",
            "\n",
            "The background is a plain, off-white or very light gray, which keeps the focus squarely on the woman. The overall lighting is soft and even, preventing harsh shadows. The image seems to be a portrait-style photograph, possibly taken for a professional context, perhaps for a website or advertisement.\n",
            "\n"
          ]
        }
      ]
    },
    {
      "cell_type": "code",
      "source": [
        "response = model.generate_content([\"what emotions can you detect in this image?, image\"])\n",
        "print(response.text)"
      ],
      "metadata": {
        "colab": {
          "base_uri": "https://localhost:8080/",
          "height": 74
        },
        "id": "OBaZtLBeFQT3",
        "outputId": "0a313843-d749-4260-96d0-07ea6c462a99"
      },
      "execution_count": 17,
      "outputs": [
        {
          "output_type": "stream",
          "name": "stdout",
          "text": [
            "Please provide the image. I need to see the image to detect the emotions within it.\n",
            "\n"
          ]
        }
      ]
    },
    {
      "cell_type": "code",
      "source": [
        "image_path = \"/content/logo.jpg\"\n",
        "image = Image.open(image_path)\n",
        "response = model.generate_content([\"Identify the brand or company associated with this logo\", image])\n",
        "print(response.text)"
      ],
      "metadata": {
        "id": "jmUN5qfrGIyn",
        "colab": {
          "base_uri": "https://localhost:8080/",
          "height": 54
        },
        "outputId": "8b15a0d6-63ff-48e2-a87a-9897aa87a565"
      },
      "execution_count": 18,
      "outputs": [
        {
          "output_type": "stream",
          "name": "stdout",
          "text": [
            "That's the logo for **Amazon**.\n",
            "\n"
          ]
        }
      ]
    },
    {
      "cell_type": "code",
      "source": [
        "image_path = \"/content/product.jpg\"\n",
        "image = Image.open(image_path)\n",
        "response = model.generate_content([\"what product is shown in the image?\", image])\n",
        "print(response.text)"
      ],
      "metadata": {
        "colab": {
          "base_uri": "https://localhost:8080/",
          "height": 35
        },
        "id": "1BfPskvgsS32",
        "outputId": "7bdbb155-df9c-4c15-a008-4735550f4060"
      },
      "execution_count": 19,
      "outputs": [
        {
          "output_type": "stream",
          "name": "stdout",
          "text": [
            "That's a pair of black over-ear headphones.\n"
          ]
        }
      ]
    },
    {
      "cell_type": "code",
      "source": [
        "response = model.generate_content([\"suggest simlar products to this one.\",image])\n",
        "print(response.text)"
      ],
      "metadata": {
        "colab": {
          "base_uri": "https://localhost:8080/",
          "height": 366
        },
        "id": "9Ewg-AKstpAW",
        "outputId": "303d99b9-af4f-4676-a143-74396c162383"
      },
      "execution_count": 20,
      "outputs": [
        {
          "output_type": "stream",
          "name": "stdout",
          "text": [
            "Here are some similar products to the pictured black over-ear headphones.  To give you the best suggestions, I need some more information.  What aspects are most important to you?  For example:\n",
            "\n",
            "* **Brand Preference:** Do you prefer a specific brand (e.g., Sony, Bose, Audio-Technica, Beats)?\n",
            "* **Budget:** Are you looking for budget-friendly options, mid-range, or high-end headphones?\n",
            "* **Features:**  Are any specific features important, such as noise cancellation, wireless capabilities (Bluetooth), microphone, water resistance, or a particular sound signature (bass-heavy, balanced, etc.)?\n",
            "* **Use Case:** Will you primarily use these headphones for listening to music, gaming, phone calls, or something else?\n",
            "\n",
            "\n",
            "However, based solely on the image, here are some *general* similar product categories you could search for:\n",
            "\n",
            "\n",
            "* **Over-ear Headphones:** This is the most obvious category. Search for \"over-ear headphones,\" \"closed-back headphones\" (as this style appears to be closed-back), or \"circum-aural headphones\" (another term for over-ear).\n",
            "* **Wireless Over-ear Headphones:** If wireless functionality is important, include \"wireless\" or \"Bluetooth\" in your search.\n",
            "* **Noise-Cancelling Headphones:** If noise cancellation is a priority, add \"noise-cancelling\" to your search terms.\n",
            "\n",
            "\n",
            "When searching online retailers like Amazon, Best Buy, or directly on headphone manufacturer websites, use these terms and filter by price, features, and brand to find options fitting your needs.\n",
            "\n"
          ]
        }
      ]
    },
    {
      "cell_type": "code",
      "source": [
        "image_path = \"/content/invoice.jpg\"\n",
        "image = Image.open(image_path)\n",
        "response = model.generate_content([\"Extract the price from this image.\",image])\n",
        "print(response.text)"
      ],
      "metadata": {
        "colab": {
          "base_uri": "https://localhost:8080/",
          "height": 55
        },
        "id": "P24xd8gpunHx",
        "outputId": "ce357b15-23ce-4776-dfda-f018c3069e97"
      },
      "execution_count": 22,
      "outputs": [
        {
          "output_type": "stream",
          "name": "stdout",
          "text": [
            "The price for each item is $10.00.  The sub-total is $100.00, the tax is 10%, and the grand total is $100.00.\n"
          ]
        }
      ]
    },
    {
      "cell_type": "code",
      "source": [
        "response = model.generate_content([\"Extract the price from this image.\",image])\n",
        "print(response.text)"
      ],
      "metadata": {
        "colab": {
          "base_uri": "https://localhost:8080/",
          "height": 55
        },
        "id": "VOwv7MncvLet",
        "outputId": "1ebff94c-7705-438a-effb-d6f8721c734c"
      },
      "execution_count": 23,
      "outputs": [
        {
          "output_type": "stream",
          "name": "stdout",
          "text": [
            "The price of each item on the invoice is $10.00.  The subtotal is $100.00, with a 10% tax, resulting in a grand total of $100.00.\n"
          ]
        }
      ]
    },
    {
      "cell_type": "code",
      "source": [
        "image_path = \"/content/bicycle.jpg\"\n",
        "image = Image.open(image_path)\n",
        "response = model.generate_content([\"Identify all objects present in this image\",image])\n",
        "print(response.text)"
      ],
      "metadata": {
        "colab": {
          "base_uri": "https://localhost:8080/",
          "height": 256
        },
        "id": "i-f1U2DEvwQN",
        "outputId": "9d243859-cd92-43d3-d421-679ed1a00c21"
      },
      "execution_count": 24,
      "outputs": [
        {
          "output_type": "stream",
          "name": "stdout",
          "text": [
            "Here's a list of the objects present in the image:\n",
            "\n",
            "* **Two bicycles:** One is mostly yellow and black, the other is white.\n",
            "* **Two men:** Riding the bicycles. One is wearing a blue shirt and camouflage shorts, the other is wearing a grey shirt and blue jeans and a red cap.\n",
            "* **A building:**  A light-beige building with a roll-up door, a window, and some visible interior.\n",
            "* **A motorcycle:** Parked on the side of the street.\n",
            "* **Two chairs:** Visible inside the building.\n",
            "* **A man:** Sitting inside the building, in the background.\n",
            "\n",
            "\n",
            "There are also less defined objects like grass, a street, and some items possibly on shelves inside the building.\n",
            "\n"
          ]
        }
      ]
    },
    {
      "cell_type": "code",
      "source": [
        "pip install youtube-transcript-api pytube"
      ],
      "metadata": {
        "colab": {
          "base_uri": "https://localhost:8080/"
        },
        "id": "c66euT9GxZFU",
        "outputId": "0bb2b9b3-b874-4b1c-dc4a-412be5c4b6da"
      },
      "execution_count": 25,
      "outputs": [
        {
          "output_type": "stream",
          "name": "stdout",
          "text": [
            "Collecting youtube-transcript-api\n",
            "  Downloading youtube_transcript_api-1.0.1-py3-none-any.whl.metadata (22 kB)\n",
            "Collecting pytube\n",
            "  Downloading pytube-15.0.0-py3-none-any.whl.metadata (5.0 kB)\n",
            "Requirement already satisfied: defusedxml<0.8.0,>=0.7.1 in /usr/local/lib/python3.11/dist-packages (from youtube-transcript-api) (0.7.1)\n",
            "Requirement already satisfied: requests in /usr/local/lib/python3.11/dist-packages (from youtube-transcript-api) (2.32.3)\n",
            "Requirement already satisfied: charset-normalizer<4,>=2 in /usr/local/lib/python3.11/dist-packages (from requests->youtube-transcript-api) (3.4.1)\n",
            "Requirement already satisfied: idna<4,>=2.5 in /usr/local/lib/python3.11/dist-packages (from requests->youtube-transcript-api) (3.10)\n",
            "Requirement already satisfied: urllib3<3,>=1.21.1 in /usr/local/lib/python3.11/dist-packages (from requests->youtube-transcript-api) (2.3.0)\n",
            "Requirement already satisfied: certifi>=2017.4.17 in /usr/local/lib/python3.11/dist-packages (from requests->youtube-transcript-api) (2025.1.31)\n",
            "Downloading youtube_transcript_api-1.0.1-py3-none-any.whl (1.9 MB)\n",
            "\u001b[2K   \u001b[90m━━━━━━━━━━━━━━━━━━━━━━━━━━━━━━━━━━━━━━━━\u001b[0m \u001b[32m1.9/1.9 MB\u001b[0m \u001b[31m22.2 MB/s\u001b[0m eta \u001b[36m0:00:00\u001b[0m\n",
            "\u001b[?25hDownloading pytube-15.0.0-py3-none-any.whl (57 kB)\n",
            "\u001b[2K   \u001b[90m━━━━━━━━━━━━━━━━━━━━━━━━━━━━━━━━━━━━━━━━\u001b[0m \u001b[32m57.6/57.6 kB\u001b[0m \u001b[31m4.1 MB/s\u001b[0m eta \u001b[36m0:00:00\u001b[0m\n",
            "\u001b[?25hInstalling collected packages: pytube, youtube-transcript-api\n",
            "Successfully installed pytube-15.0.0 youtube-transcript-api-1.0.1\n"
          ]
        }
      ]
    },
    {
      "cell_type": "code",
      "source": [
        "from youtube_transcript_api import YouTubeTranscriptApi\n",
        "def get_youtube_transcript(video_url):\n",
        "    \"\"\"Fetches the transcript for a given YouTube video URL.\"\"\"\n",
        "    video_id = video_url.split('v=')[1].split('&')[0]\n",
        "    transcript = YouTubeTranscriptApi.get_transcript(video_id)\n",
        "    full_text=' '.join([item['text'] for item in transcript])\n",
        "    return full_text\n",
        "vedio_url=\"https://www.youtube.com/watch?v=unYDoA8QGH0&list=PLWEpztHwA4ZT2QlHC74oIz4MsawcvE-QX\"\n",
        "vedio_transcript=get_youtube_transcript(vedio_url)\n",
        "print(\"Transcript:\\n\",vedio_transcript[:500])"
      ],
      "metadata": {
        "colab": {
          "base_uri": "https://localhost:8080/"
        },
        "id": "wGmcF7Y1yDYv",
        "outputId": "eabb9544-560a-4243-d92f-0d63d1d1c547"
      },
      "execution_count": 33,
      "outputs": [
        {
          "output_type": "stream",
          "name": "stdout",
          "text": [
            "Transcript:\n",
            " hi guys today I'm going to introduce you what is machine learning uh these are my presentation content what is machine learning what are the different applications of machine learning different types of machine learning and how to build a machine learning system or model then various kinds of algorithms and later on in this series we are going to take a Hands-On you know case studies or doing programming for various kinds of up algorithms so what is machine learning so machine learning is nothin\n"
          ]
        }
      ]
    },
    {
      "cell_type": "code",
      "source": [
        "def summarize_vedio(text):\n",
        "  \"\"\"Summarizes the Youtube vedio transcript using Gemini AI\"\"\"\n",
        "  model=genai.GenerativeModel(\"gemini-1.5-flash\")\n",
        "  prompt=f\"Summarize the following Youtube video transcript:\\n\\n{text}\"\n",
        "  response=model.generate_content(prompt)\n",
        "  return response.text\n",
        "summary=summarize_vedio(vedio_transcript)\n",
        "print(\"Summary:\\n\",summary)"
      ],
      "metadata": {
        "colab": {
          "base_uri": "https://localhost:8080/",
          "height": 165
        },
        "id": "-6Wa15qvzvRU",
        "outputId": "dbdcea33-d069-4a4d-a6f7-0fadd81bfa3b"
      },
      "execution_count": 43,
      "outputs": [
        {
          "output_type": "stream",
          "name": "stdout",
          "text": [
            "Summary:\n",
            " This YouTube video provides an introduction to machine learning.  The presenter covers the definition of machine learning as learning from data, emphasizing its role as a subfield of artificial intelligence.  Several applications are highlighted, including speech recognition, web search, recommendation systems, computer vision, information retrieval, and fraud detection.\n",
            "\n",
            "The video then categorizes machine learning into three types: supervised (learning from labeled data, further divided into classification and regression), unsupervised (learning from unlabeled data, exemplified by clustering and dimensionality reduction), and reinforcement learning (learning through trial-and-error with rewards and penalties).\n",
            "\n",
            "The presenter explains the process of building a machine learning model, detailing the steps involved: data preprocessing (cleaning, scaling, encoding, feature selection), algorithm selection, model building, and model evaluation.  The importance of comparing multiple models is stressed.  Finally, the video concludes by mentioning future sessions that will cover practical implementation and specific algorithms.  Common terminology used in machine learning is also introduced.\n",
            "\n"
          ]
        }
      ]
    },
    {
      "cell_type": "code",
      "source": [],
      "metadata": {
        "id": "uHN_9QC61c7s"
      },
      "execution_count": null,
      "outputs": []
    }
  ]
}