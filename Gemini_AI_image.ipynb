{
  "nbformat": 4,
  "nbformat_minor": 0,
  "metadata": {
    "colab": {
      "provenance": [],
      "authorship_tag": "ABX9TyNpT6ZVzjz4UVC3Le5MH4Cj",
      "include_colab_link": true
    },
    "kernelspec": {
      "name": "python3",
      "display_name": "Python 3"
    },
    "language_info": {
      "name": "python"
    }
  },
  "cells": [
    {
      "cell_type": "markdown",
      "metadata": {
        "id": "view-in-github",
        "colab_type": "text"
      },
      "source": [
        "<a href=\"https://colab.research.google.com/github/keerthydevisetty129/ExcelR-/blob/main/Gemini_AI_image.ipynb\" target=\"_parent\"><img src=\"https://colab.research.google.com/assets/colab-badge.svg\" alt=\"Open In Colab\"/></a>"
      ]
    },
    {
      "cell_type": "code",
      "execution_count": null,
      "metadata": {
        "id": "MUmuLcJ596zH"
      },
      "outputs": [],
      "source": [
        "from google.colab import userdata\n",
        "import google.generativeai as genai\n",
        "\n",
        "GOOGLE_API_KEY = userdata.get('GOOGLE_API_KEY')\n",
        "genai.configure(api_key=GOOGLE_API_KEY)"
      ]
    },
    {
      "cell_type": "code",
      "source": [
        "import pathlib\n",
        "import textwrap\n",
        "from IPython.display import display, Markdown\n",
        "def to_markdown(text):\n",
        "    text = text.replace('*',' *')\n",
        "    return Markdown(textwrap.indent(text, '> ',predicate=lambda _: True))"
      ],
      "metadata": {
        "id": "4Jqj4TG8-Imk"
      },
      "execution_count": null,
      "outputs": []
    },
    {
      "cell_type": "code",
      "source": [
        "import PIL.Image\n",
        "img=PIL.Image.open('/content/Image 1.jpg')\n",
        "img\n",
        "model=genai.GenerativeModel('gemini-1.5-flash')\n",
        "response=model.generate_content([\"Write a short,engaging blog post based on this picture.\\nIt should include a description of the meal in the photo and talk about my journey meal prepping.\", img],\n",
        "stream=True)\n",
        "response.resolve()"
      ],
      "metadata": {
        "id": "eed6_jCM_Ah1"
      },
      "execution_count": null,
      "outputs": []
    },
    {
      "cell_type": "code",
      "source": [
        "to_markdown(response.text)"
      ],
      "metadata": {
        "colab": {
          "base_uri": "https://localhost:8080/",
          "height": 452
        },
        "id": "0gjaKC3-B0TE",
        "outputId": "08a58166-d530-44fe-8017-7c7f16d56ffc"
      },
      "execution_count": null,
      "outputs": [
        {
          "output_type": "execute_result",
          "data": {
            "text/plain": [
              "<IPython.core.display.Markdown object>"
            ],
            "text/markdown": "> ## From Chaos to Calm: My Meal Prep Journey\n> \n> Let's be honest, adulting is hard.  Juggling work, life, and finding time for healthy eating often feels impossible.  For ages, my lunches were a sad rotation of questionable takeout or skipped meals altogether.  But not anymore!  This picture is proof!\n> \n> Behold: two perfectly portioned containers of deliciousness.  Each one is a vibrant mix of fluffy white rice, tender teriyaki chicken, crisp broccoli florets, and sweet, colorful carrots.  It's the kind of lunch that makes my stomach happy  *and * my Instagram feed even happier.\n> \n> \n> My journey to meal prepping wasn't a magical overnight transformation. It was a process.  At first, I was overwhelmed.  The thought of spending a Sunday afternoon prepping lunches for the entire week felt daunting. But, I started small. One week, I just prepped one type of lunch. Then I slowly started increasing the variety and quantity.  The key was to find recipes that were quick, easy, and most importantly, delicious enough that I actually looked forward to eating them.\n> \n> Now, meal prepping is not just a chore; it's a self-care ritual. Knowing I have healthy, ready-to-go meals eliminates the midday decision fatigue and ensures I fuel my body properly.  Plus, it's saved me a ton of money on takeout!\n> \n> If you're thinking about starting your own meal prep journey, my advice is to start small, choose recipes you love, and don't be afraid to experiment.  You might just surprise yourself with how much easier (and tastier!) healthy eating can be.  And who knows, maybe you'll even be inspired to share your own meal prep masterpieces!\n"
          },
          "metadata": {},
          "execution_count": 10
        }
      ]
    },
    {
      "cell_type": "code",
      "source": [
        "response = model.generate_content([\"Generate an accurate caption for this image.\",img])\n",
        "print(response.text)"
      ],
      "metadata": {
        "colab": {
          "base_uri": "https://localhost:8080/",
          "height": 421
        },
        "id": "TBvlzM3HCoWn",
        "outputId": "a13d76a5-4aa9-40e1-e7b2-48e66c4d06ce"
      },
      "execution_count": null,
      "outputs": [
        {
          "output_type": "stream",
          "name": "stdout",
          "text": [
            "Here are a few caption options for the image:\n",
            "\n",
            "**Option 1 (Simple & Descriptive):**\n",
            "\n",
            "> Healthy and delicious meal prep!  Chicken and broccoli with rice.\n",
            "\n",
            "**Option 2 (Slightly more engaging):**\n",
            "\n",
            "> Lunch goals!  These chicken and veggie bowls are packed with flavor and perfect for a busy week. #mealprep #healthyfood #lunchideas\n",
            "\n",
            "**Option 3 (Focus on ease):**\n",
            "\n",
            "> Easy and satisfying meal prep made simple.  Grab and go lunches are the best!\n",
            "\n",
            "**Option 4 (More specific):**\n",
            "\n",
            "> Teriyaki Chicken and Broccoli Rice Bowls.  The perfect combination of savory and healthy.  #teriyaki #chicken #broccoli #rice\n",
            "\n",
            "\n",
            "Choose the caption that best fits your intended audience and platform.\n",
            "\n"
          ]
        }
      ]
    },
    {
      "cell_type": "code",
      "source": [
        "from PIL import Image\n",
        "image_path = \"/content/girl.jpg\"\n",
        "image = Image.open(image_path)\n",
        "response = model.generate_content([\"Describe this image in detail.\", image])\n",
        "print(response.text)"
      ],
      "metadata": {
        "colab": {
          "base_uri": "https://localhost:8080/",
          "height": 274
        },
        "id": "UtpH0eQQC8Zg",
        "outputId": "0803b3f2-6664-4dbf-d97a-0ef1d53fc619"
      },
      "execution_count": null,
      "outputs": [
        {
          "output_type": "stream",
          "name": "stdout",
          "text": [
            "Here's a description of the image:\n",
            "\n",
            "Close-up view of a woman with shoulder-length, curly brown hair. \n",
            "\n",
            "\n",
            "She is smiling and gesturing with her right index finger, pointing to the left side of the frame, indicating something off-camera. Her expression is friendly and engaging.\n",
            "\n",
            "\n",
            "She's wearing a teal-colored, three-quarter sleeve tunic or kurta with a subtle gold print or pattern on it. The top has a simple, modest neckline. \n",
            "\n",
            "\n",
            "The background is a plain, bright white, which makes the woman and her clothing the clear focus of the image. The lighting is even and soft, eliminating harsh shadows. The overall impression is one of a casual, approachable portrait.\n",
            "\n"
          ]
        }
      ]
    },
    {
      "cell_type": "code",
      "source": [
        "response = model.generate_content([\"what emotions can you detect in this image?, image\"])\n",
        "print(response.text)"
      ],
      "metadata": {
        "colab": {
          "base_uri": "https://localhost:8080/",
          "height": 74
        },
        "id": "OBaZtLBeFQT3",
        "outputId": "d58922b3-cc83-4ab1-8773-c913cffe8893"
      },
      "execution_count": null,
      "outputs": [
        {
          "output_type": "stream",
          "name": "stdout",
          "text": [
            "Please provide me with the image. I need to see the image to detect the emotions within it.  I cannot access files from your computer.\n",
            "\n"
          ]
        }
      ]
    },
    {
      "cell_type": "code",
      "source": [],
      "metadata": {
        "id": "jmUN5qfrGIyn"
      },
      "execution_count": null,
      "outputs": []
    }
  ]
}