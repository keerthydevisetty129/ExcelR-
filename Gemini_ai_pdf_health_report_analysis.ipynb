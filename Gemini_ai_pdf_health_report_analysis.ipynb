{
  "nbformat": 4,
  "nbformat_minor": 0,
  "metadata": {
    "colab": {
      "provenance": [],
      "authorship_tag": "ABX9TyOxOKCiw8PCsgaMoR8fcCjn",
      "include_colab_link": true
    },
    "kernelspec": {
      "name": "python3",
      "display_name": "Python 3"
    },
    "language_info": {
      "name": "python"
    }
  },
  "cells": [
    {
      "cell_type": "markdown",
      "metadata": {
        "id": "view-in-github",
        "colab_type": "text"
      },
      "source": [
        "<a href=\"https://colab.research.google.com/github/keerthydevisetty129/ExcelR-/blob/main/Gemini_ai_pdf_health_report_analysis.ipynb\" target=\"_parent\"><img src=\"https://colab.research.google.com/assets/colab-badge.svg\" alt=\"Open In Colab\"/></a>"
      ]
    },
    {
      "cell_type": "code",
      "execution_count": 1,
      "metadata": {
        "id": "lCFD5T5lgCJD"
      },
      "outputs": [],
      "source": [
        "import google.generativeai as genai\n",
        "from google.colab import userdata\n",
        "GOOGLE_API_KEY = userdata.get('GOOGLE_API_KEY')\n",
        "genai.configure(api_key=GOOGLE_API_KEY)"
      ]
    },
    {
      "cell_type": "code",
      "source": [
        "pip install pyPDF2"
      ],
      "metadata": {
        "colab": {
          "base_uri": "https://localhost:8080/"
        },
        "id": "TBRUOvzGgvk3",
        "outputId": "e020ba58-e804-4797-e90e-5547da77054a"
      },
      "execution_count": 2,
      "outputs": [
        {
          "output_type": "stream",
          "name": "stdout",
          "text": [
            "Collecting pyPDF2\n",
            "  Downloading pypdf2-3.0.1-py3-none-any.whl.metadata (6.8 kB)\n",
            "Downloading pypdf2-3.0.1-py3-none-any.whl (232 kB)\n",
            "\u001b[2K   \u001b[90m━━━━━━━━━━━━━━━━━━━━━━━━━━━━━━━━━━━━━━━━\u001b[0m \u001b[32m232.6/232.6 kB\u001b[0m \u001b[31m4.0 MB/s\u001b[0m eta \u001b[36m0:00:00\u001b[0m\n",
            "\u001b[?25hInstalling collected packages: pyPDF2\n",
            "Successfully installed pyPDF2-3.0.1\n"
          ]
        }
      ]
    },
    {
      "cell_type": "code",
      "source": [
        "import PyPDF2\n",
        "def extract_text_from_pdf(pdf_path):\n",
        "    \"\"\"Extracts text from a given health report PDF using PyPDF2.\"\"\"\n",
        "    text = \"\"\n",
        "    with open(pdf_path, 'rb') as file:\n",
        "        reader = PyPDF2.PdfReader(file)\n",
        "        for page in reader.pages:\n",
        "            text += page.extract_text()+\"\\n\"\n",
        "    return text"
      ],
      "metadata": {
        "id": "USJiqq6ug8kG"
      },
      "execution_count": 14,
      "outputs": []
    },
    {
      "cell_type": "code",
      "source": [
        "def extract_health_insights(text):\n",
        "  \"\"\"Asks Gemini AI to extract key medical insights from the report.\"\"\"\n",
        "  model=genai.GenerativeModel(\"gemini-1.5-flash\")\n",
        "  prompt=f\"Extarct key insights from the following health report:\\n\\n{text}\"\n",
        "  response=model.generate_content(prompt)\n",
        "  return response.text\n",
        "pdf_file=\"/content/health_report.pdf\"\n",
        "extracted_text = extract_text_from_pdf(pdf_file)\n",
        "insights = extract_health_insights(extracted_text)\n",
        "print(\"Key Insights:\\n\",insights)"
      ],
      "metadata": {
        "colab": {
          "base_uri": "https://localhost:8080/",
          "height": 695
        },
        "id": "ZGC6sKVMhN__",
        "outputId": "7d958f35-ce29-458d-f810-f975fa3f1965"
      },
      "execution_count": 17,
      "outputs": [
        {
          "output_type": "stream",
          "name": "stdout",
          "text": [
            "Key Insights:\n",
            " **Key Insights from Mr. Kishan Goud's Health Report (MR2100003157):**\n",
            "\n",
            "The report reveals several findings across different tests conducted on 01/02/2021.  Here's a summary:\n",
            "\n",
            "**Infectious Diseases:**\n",
            "\n",
            "* **Widal Test:**  Elevated titers for *Salmonella Typhi* \"O\" (1:160) and \"H\" (1:80)  suggest a possible past or present *Salmonella Typhi* infection.  Further investigation may be needed to confirm active infection, as the titers could indicate past exposure. *Salmonella Paratyphi* \"AH\" and \"BH\" are within the normal range.\n",
            "\n",
            "* **Dengue Serology:**  Negative results for Dengue NS1 antigen, IgG, and IgM antibodies indicate no current or recent dengue fever infection.\n",
            "\n",
            "* **Malaria:** Rapid malaria test (both P. falciparum and P. vivax) negative, ruling out malaria.\n",
            "\n",
            "**Hematology:**\n",
            "\n",
            "* **Complete Blood Picture (CBC):**  All values (Hemoglobin, RBC, WBC, Platelets, PCV, Differential Count) are within normal limits, indicating no significant hematological abnormalities.\n",
            "\n",
            "* **Erythrocyte Sedimentation Rate (ESR):** Elevated ESR (26 mm/hr in the first hour, 52 mm/hr in the second hour).  This indicates inflammation or infection somewhere in the body.  Given the slightly elevated Widal test, this could be related, but further investigation is necessary as it could also be indicative of other conditions.\n",
            "\n",
            "**Biochemistry:**\n",
            "\n",
            "* **Liver Function Tests (LFTs):**  All liver function parameters (bilirubin – total, direct, indirect; alkaline phosphatase, SGOT, SGPT, total protein, albumin, globulin, A/G ratio) are within normal limits, suggesting normal liver function.\n",
            "\n",
            "* **Kidney Function Test:** Serum creatinine (0.8 mg/dl) is within the normal range (0.6 - 1.25 mg/dl), indicating normal kidney function.\n",
            "\n",
            "* **Electrolytes:** Serum sodium (122 mmol/l) is slightly below the normal range (135-146 mmol/l).  Potassium and chloride are within normal limits.  The low sodium warrants further investigation and monitoring.\n",
            "\n",
            "* **Blood Glucose:** Random blood glucose level not provided.\n",
            "\n",
            "* **HbA1c:** HbA1c (5.4%) is within the normal non-diabetic range (4-6%), indicating good blood sugar control.\n",
            "\n",
            "\n",
            "**Overall:**\n",
            "\n",
            "The report shows mostly normal results, with exceptions being the elevated ESR and slightly low serum sodium.  The Widal test suggests a possible past or present *Salmonella Typhi* infection requiring further evaluation to determine if it is actively causing the inflammation suggested by the ESR.  The slightly low sodium warrants further investigation and monitoring as well. The physician (Dr. Krishna Prasad) needs to consider the patient's clinical presentation and possibly order further tests to determine the cause of the elevated ESR and slightly low sodium level.\n",
            "\n"
          ]
        }
      ]
    },
    {
      "cell_type": "code",
      "source": [
        "def summarize_health_report(text):\n",
        "    \"\"\"Summarizes the health report using Gemini AI.\"\"\"\n",
        "    model=genai.GenerativeModel(\"gemini-1.5-flash\")\n",
        "    prompt=f\"Summarize the following health report in a concise manner:\\n\\n{text}\"\n",
        "    response=model.generate_content(prompt)\n",
        "    return response.text\n",
        "summarized_report=summarize_health_report(extracted_text)\n",
        "print(\"Summarized Report:\\n\",summarized_report)"
      ],
      "metadata": {
        "colab": {
          "base_uri": "https://localhost:8080/",
          "height": 92
        },
        "id": "13p1ADNwmWUj",
        "outputId": "3cda6d91-962c-4af9-fdb1-9f1f06f15abf"
      },
      "execution_count": 23,
      "outputs": [
        {
          "output_type": "stream",
          "name": "stdout",
          "text": [
            "Summarized Report:\n",
            " Mr. Kishan Goud's (MR2100003157) blood tests on 01/02/2021 showed:  Elevated ESR (26/52 mm/hr),  Widal test positive for *S. Typhi* \"O\" (1:160) and \"H\" (1:80), but negative for paratyphi.  Dengue serology (NS1, IgG, IgM) and malaria tests were negative.  Complete blood count, HbA1c (5.4%),  liver function tests, serum electrolytes, and creatinine were all within normal ranges except for slightly low serum sodium (122 mmol/l).\n",
            "\n"
          ]
        }
      ]
    },
    {
      "cell_type": "code",
      "source": [
        "def detect_abnormalities(text):\n",
        "  \"\"\"Analysis lab text results and flags abnormal values.\"\"\"\n",
        "  model = genai.GenerativeModel(\"gemini-1.5-flash\")\n",
        "  prompt = f\"Analyze the lab test results in the following health report and highlight any abnormal values:\\n\\n{text}\"\n",
        "  response = model.generate_content(prompt)\n",
        "  return response.text\n",
        "abnormalities = detect_abnormalities(extracted_text)\n",
        "print(\"Potential Abnormalities:\\n\", abnormalities)"
      ],
      "metadata": {
        "colab": {
          "base_uri": "https://localhost:8080/",
          "height": 201
        },
        "id": "ZavObC0Jm_fh",
        "outputId": "cca63774-1622-4cc7-ae7e-56d5d99a4069"
      },
      "execution_count": 26,
      "outputs": [
        {
          "output_type": "stream",
          "name": "stdout",
          "text": [
            "Potential Abnormalities:\n",
            " Based on the provided lab results, the following values are outside the biological reference ranges and are considered abnormal:\n",
            "\n",
            "* **Widal Test:**  S. Typhi \"O\" (1:160) and S. Typhi \"H\" (1:80) are significantly elevated above the reference range (1:20). This strongly suggests a past or present *Salmonella Typhi* infection.  The high titer suggests a past infection rather than an acute infection.\n",
            "\n",
            "* **ESR (Erythrocyte Sedimentation Rate):** Both the 1st hour (26 mm/hr) and 2nd hour (52 mm/hr) values are significantly higher than the reference range (0-8 mm/hr for the 1st hour).  Elevated ESR indicates inflammation in the body.\n",
            "\n",
            "These are the only significantly abnormal results.  While some other values are slightly outside the ranges (e.g.,  Chloride, RBC, Lymphocytes), they are within the margins of error and close enough to the reference range to not be considered clinically significant without further context or additional testing.  A doctor should interpret these results within the context of the patient's clinical presentation and medical history to determine their significance.\n",
            "\n"
          ]
        }
      ]
    },
    {
      "cell_type": "code",
      "source": [
        "def explain_medical_terms(text):\n",
        "  \"\"\"Asks gemini AI to simplify medical terms for patient understanding.\"\"\"\n",
        "  model = genai.GenerativeModel(\"gemini-1.5-flash\")\n",
        "  prompt = f\"Explain the medical terms in the following health report in a simple manner:\\n\\n{text}\"\n",
        "  response = model.generate_content(prompt)\n",
        "  return response.text\n",
        "explanation = explain_medical_terms(extracted_text)\n",
        "print(\"Simplified Explanation:\\n\", explanation)"
      ],
      "metadata": {
        "colab": {
          "base_uri": "https://localhost:8080/",
          "height": 658
        },
        "id": "CDLbTKH1oir7",
        "outputId": "95d841e7-b35f-454f-d652-783b0fa03b1b"
      },
      "execution_count": 27,
      "outputs": [
        {
          "output_type": "stream",
          "name": "stdout",
          "text": [
            "Simplified Explanation:\n",
            " This report shows the results of various blood tests performed on Mr. Kishan Goud. Let's break down the medical terms:\n",
            "\n",
            "**1. Widal Test:** This tests for antibodies against *Salmonella Typhi* (causes typhoid fever) and *Salmonella Paratyphi* (causes paratyphoid fever).  The numbers (e.g., 1:160) represent the dilution of the sample at which the antibodies are still detectable.  Higher numbers indicate a stronger antibody response, suggesting a possible past or current infection.  In this case, the results for *S. Typhi* \"O\" and \"H\" are elevated, which might suggest past exposure to typhoid. *S. Paratyphi* \"A\" and \"B\" are within the normal range.\n",
            "\n",
            "**2. Dengue Serology:** This tests for dengue fever.  NS1 Antigen, IgG, and IgM are all negative, meaning no evidence of a current or recent dengue infection was found.\n",
            "\n",
            "**3. Erythrocyte Sedimentation Rate (ESR):** This measures how quickly red blood cells settle in a test tube.  A higher ESR can indicate inflammation in the body.  Mr. Goud's ESR is elevated (26 mm/hr in the first hour, 52 mm/hr in the second), suggesting possible inflammation.\n",
            "\n",
            "**4. Rapid Malaria Test:** This tests for malaria parasites in the blood.  Both *Plasmodium vivax* (P.V.) and *Plasmodium falciparum* (P.F.) tests are negative, meaning no malaria was detected.\n",
            "\n",
            "**5. Complete Blood Picture (CBC):** This is a comprehensive blood test that includes:\n",
            "\n",
            "* **Hemoglobin (Hb):**  Measures the amount of oxygen-carrying protein in the blood.  Mr. Goud's level is within the normal range.\n",
            "* **Red Blood Cells (RBC):** Counts the number of red blood cells. His count is slightly low, but still within the acceptable range.\n",
            "* **White Blood Cells (WBC):** Counts the number of white blood cells (part of the immune system). His count is within the normal range.\n",
            "* **Platelet Count:** Counts the number of platelets (involved in blood clotting).  His count is within the normal range.\n",
            "* **Packed Cell Volume (PCV):** The percentage of blood volume occupied by red blood cells. His is within the normal range.\n",
            "* **Differential Count:** Shows the percentages of different types of white blood cells. All are within normal limits.\n",
            "* **Peripheral Blood Smear:** A microscopic examination of the blood sample;  the report indicates normal findings.\n",
            "\n",
            "**6. HbA1c:** This measures average blood sugar levels over the past 2-3 months.  Mr. Goud's level is within the normal range, indicating good blood sugar control.\n",
            "\n",
            "**7. Serum Creatinine:** This measures creatinine, a waste product from muscle metabolism, in the blood.  It's used to assess kidney function. Mr. Goud's level is within the normal range.\n",
            "\n",
            "**8. Random Blood Glucose:** Measures blood sugar level at a random time.  Mr. Goud's level is within the normal range.\n",
            "\n",
            "**9. Liver Function Test (LFT):** This group of tests assesses liver health. All results (bilirubin - total, direct, and indirect; alkaline phosphatase; SGOT; SGPT; total protein; albumin; globulin; A/G ratio) are within the normal range.\n",
            "\n",
            "**10. Serum Electrolytes:** This measures the levels of sodium, potassium, and chloride in the blood, which are essential for various bodily functions.  Sodium is slightly low, while potassium and chloride are within normal ranges.\n",
            "\n",
            "\n",
            "**In summary:** The tests show mostly normal results except for slightly elevated ESR and slightly low sodium.  The elevated Widal test results suggest past exposure to *Salmonella Typhi*, and the slightly elevated ESR suggests some inflammation.  Further investigation might be necessary depending on Mr. Goud's symptoms and clinical presentation.  A doctor should interpret these results in the context of his overall health and medical history.\n",
            "\n"
          ]
        }
      ]
    },
    {
      "cell_type": "code",
      "source": [
        "def ask_gemini_about_report(text, question):\n",
        "  \"\"\"Allows users to ask questions about their health report.\"\"\"\n",
        "  model = genai.GenerativeModel(\"gemini-1.5-flash\")\n",
        "  prompt = f\"The following is a health report:\\n\\n{text}\\n\\nAnswer the following question based on the report:\\n{question}\"\n",
        "  response = model.generate_content(prompt)\n",
        "  return response.text\n",
        "question = \"What is the patient's diagnosis?\"\n",
        "answer = ask_gemini_about_report(extracted_text, question)\n",
        "print(\"Answer:\", answer)"
      ],
      "metadata": {
        "colab": {
          "base_uri": "https://localhost:8080/",
          "height": 74
        },
        "id": "xwLIlc6bqfuy",
        "outputId": "6a722b3d-9c6f-4cc7-9043-094985390241"
      },
      "execution_count": 30,
      "outputs": [
        {
          "output_type": "stream",
          "name": "stdout",
          "text": [
            "Answer: The provided lab report does not offer a diagnosis.  It only presents test results.  While some results are outside the reference ranges (e.g., elevated ESR), this is not sufficient to make a diagnosis.  A physician must interpret these results in the context of the patient's symptoms, medical history, and physical examination to arrive at a diagnosis.\n",
            "\n"
          ]
        }
      ]
    },
    {
      "cell_type": "code",
      "source": [],
      "metadata": {
        "id": "9lNM2tEVrtuC"
      },
      "execution_count": null,
      "outputs": []
    }
  ]
}